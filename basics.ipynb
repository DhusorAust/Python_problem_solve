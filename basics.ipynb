{
 "cells": [
  {
   "cell_type": "markdown",
   "metadata": {},
   "source": [
    "# Reverse Array"
   ]
  },
  {
   "cell_type": "code",
   "execution_count": 1,
   "metadata": {},
   "outputs": [
    {
     "name": "stdout",
     "output_type": "stream",
     "text": [
      "[7, 6, 4, 1, 3, 2]\n"
     ]
    }
   ],
   "source": [
    "lst=[2,3,1,4,6,7]\n",
    "\n",
    "n=len(lst)\n",
    "\n",
    "h=n-1\n",
    "\n",
    "\n",
    "for l in range(n//2):\n",
    "    \n",
    "    lst[l],lst[h]=lst[h],lst[l]\n",
    "    h-=1\n",
    "    \n",
    "print(lst)"
   ]
  },
  {
   "cell_type": "markdown",
   "metadata": {},
   "source": [
    "# Reverse String"
   ]
  },
  {
   "cell_type": "code",
   "execution_count": 2,
   "metadata": {},
   "outputs": [
    {
     "name": "stdout",
     "output_type": "stream",
     "text": [
      "rosuhDnasaHlumanA\n"
     ]
    }
   ],
   "source": [
    "string=\"AnamulHasanDhusor\"\n",
    "\n",
    "res=\"\"\n",
    "\n",
    "for i in string:\n",
    "    \n",
    "    res=i+res\n",
    "print(res)\n",
    "    "
   ]
  },
  {
   "cell_type": "markdown",
   "metadata": {},
   "source": [
    "# Reverse Integer"
   ]
  },
  {
   "cell_type": "code",
   "execution_count": 96,
   "metadata": {},
   "outputs": [
    {
     "name": "stdout",
     "output_type": "stream",
     "text": [
      "8765432\n"
     ]
    }
   ],
   "source": [
    "integer=2345678\n",
    "\n",
    "res=0\n",
    "\n",
    "while(integer>0):\n",
    "    \n",
    "    last_digit=integer%10\n",
    "    \n",
    "    integer=integer//10\n",
    "    \n",
    "    res=res*10+last_digit\n",
    "    \n",
    "print(res)\n"
   ]
  },
  {
   "cell_type": "markdown",
   "metadata": {},
   "source": [
    "# Palindome Integer"
   ]
  },
  {
   "cell_type": "code",
   "execution_count": 35,
   "metadata": {},
   "outputs": [
    {
     "name": "stdout",
     "output_type": "stream",
     "text": [
      "palindome\n"
     ]
    }
   ],
   "source": [
    "integer=131\n",
    "value=131\n",
    "res=0\n",
    "\n",
    "while(integer>0):\n",
    "    \n",
    "    remainder=integer%10\n",
    "    \n",
    "    res=res*10+remainder\n",
    "    \n",
    "    integer=integer//10\n",
    "    \n",
    "if value==res:\n",
    "    \n",
    "    print(\"palindome\")\n",
    "    "
   ]
  },
  {
   "cell_type": "markdown",
   "metadata": {},
   "source": [
    "# Palindome String"
   ]
  },
  {
   "cell_type": "code",
   "execution_count": 8,
   "metadata": {},
   "outputs": [
    {
     "name": "stdout",
     "output_type": "stream",
     "text": [
      "ANA\n",
      "Palindome\n"
     ]
    }
   ],
   "source": [
    "string=\"ANA\"\n",
    "\n",
    "res=\"\"\n",
    "\n",
    "for i in string:\n",
    "    \n",
    "    res=i+res\n",
    "print(res)\n",
    "\n",
    "if res==string:\n",
    "    print(\"Palindome\")\n",
    "    "
   ]
  },
  {
   "cell_type": "markdown",
   "metadata": {},
   "source": [
    "# Longest Palindome String"
   ]
  },
  {
   "cell_type": "code",
   "execution_count": null,
   "metadata": {},
   "outputs": [],
   "source": []
  },
  {
   "cell_type": "code",
   "execution_count": null,
   "metadata": {},
   "outputs": [],
   "source": []
  },
  {
   "cell_type": "markdown",
   "metadata": {},
   "source": [
    "# Prime Number"
   ]
  },
  {
   "cell_type": "code",
   "execution_count": 24,
   "metadata": {},
   "outputs": [
    {
     "name": "stdout",
     "output_type": "stream",
     "text": [
      "False\n"
     ]
    }
   ],
   "source": [
    "n=56\n",
    "palindome=True\n",
    "for i in range(2,n):\n",
    "    if n%i==0:\n",
    "        palindome=False\n",
    "        \n",
    "        \n",
    "print(palindome) "
   ]
  },
  {
   "cell_type": "markdown",
   "metadata": {},
   "source": [
    "# Find All Prime Number From Array"
   ]
  },
  {
   "cell_type": "code",
   "execution_count": 25,
   "metadata": {},
   "outputs": [
    {
     "name": "stdout",
     "output_type": "stream",
     "text": [
      "True 3\n",
      "False 4\n",
      "True 5\n",
      "False 6\n",
      "True 7\n",
      "False 8\n",
      "False 8\n",
      "False 9\n",
      "False 8\n",
      "True 7\n",
      "False 56\n",
      "True 5\n",
      "False 32\n",
      "True 5\n",
      "False 55\n"
     ]
    }
   ],
   "source": [
    "arr=[3,4,5,6,7,8,8,9,8,7,56,5,32,5,55]\n",
    "\n",
    "\n",
    "for n in arr:\n",
    "    palindome=True\n",
    "    for i in range(2,n):\n",
    "        if n%i==0:\n",
    "            palindome=False\n",
    "\n",
    "\n",
    "    print(palindome,n) \n",
    "\n"
   ]
  },
  {
   "cell_type": "markdown",
   "metadata": {},
   "source": [
    "# ODD Number Sum"
   ]
  },
  {
   "cell_type": "code",
   "execution_count": 9,
   "metadata": {},
   "outputs": [
    {
     "name": "stdout",
     "output_type": "stream",
     "text": [
      "24\n"
     ]
    }
   ],
   "source": [
    "arr=[2,1,2,3,4,5,6,3,2,5,6,7]\n",
    "s=0\n",
    "for i in arr:\n",
    "    \n",
    "    if i%2!=0:\n",
    "        s+=i\n",
    "print(s)"
   ]
  },
  {
   "cell_type": "code",
   "execution_count": 10,
   "metadata": {},
   "outputs": [
    {
     "name": "stdout",
     "output_type": "stream",
     "text": [
      "22\n"
     ]
    }
   ],
   "source": [
    "s=0\n",
    "for i in arr:\n",
    "    \n",
    "    if i%2==0:\n",
    "        s+=i\n",
    "print(s)"
   ]
  },
  {
   "cell_type": "markdown",
   "metadata": {},
   "source": [
    "# Array Frequency"
   ]
  },
  {
   "cell_type": "code",
   "execution_count": 33,
   "metadata": {},
   "outputs": [],
   "source": [
    "arr=[2,3,2,3,4,2,2,3,4,5,3,2,2,3,54,56,34,2,3,4,4,3,2,34,4,5,3,2,2,3,34,3,45,45,5,6,67,7,78,5,4,43,34,7,7,7,7,54]\n",
    "\n",
    "d={}\n",
    "\n",
    "for i in arr:\n",
    "    \n",
    "    if i not in d.keys():\n",
    "        \n",
    "        d[i]=1\n",
    "    else:\n",
    "        \n",
    "        d[i]+=1"
   ]
  },
  {
   "cell_type": "code",
   "execution_count": 34,
   "metadata": {},
   "outputs": [
    {
     "data": {
      "text/plain": [
       "{2: 10,\n",
       " 3: 10,\n",
       " 4: 6,\n",
       " 5: 4,\n",
       " 54: 2,\n",
       " 56: 1,\n",
       " 34: 4,\n",
       " 45: 2,\n",
       " 6: 1,\n",
       " 67: 1,\n",
       " 7: 5,\n",
       " 78: 1,\n",
       " 43: 1}"
      ]
     },
     "execution_count": 34,
     "metadata": {},
     "output_type": "execute_result"
    }
   ],
   "source": [
    "d"
   ]
  },
  {
   "cell_type": "markdown",
   "metadata": {},
   "source": [
    "# remove duplicates from an array"
   ]
  },
  {
   "cell_type": "code",
   "execution_count": 75,
   "metadata": {},
   "outputs": [
    {
     "name": "stdout",
     "output_type": "stream",
     "text": [
      "27\n"
     ]
    }
   ],
   "source": [
    "arr=[1,2,1,3,2,3,4,3,2,4,5,6,7,8,9,0,2,3,2,22,33,11,22,33,11,33,3]\n",
    "\n",
    "size=len(arr)\n",
    "\n",
    "print(size)\n",
    "\n",
    "for i in range(size):\n",
    "    \n",
    "    for j in range(i+1,size):\n",
    "        \n",
    "        if arr[i]==arr[j]:\n",
    "            \n",
    "            for k in range(j,size-1):\n",
    "                \n",
    "                arr[k]=arr[k+1]\n",
    "                \n",
    "            j-=1       \n",
    "            size-=1\n",
    "        "
   ]
  },
  {
   "cell_type": "code",
   "execution_count": 76,
   "metadata": {},
   "outputs": [
    {
     "data": {
      "text/plain": [
       "13"
      ]
     },
     "execution_count": 76,
     "metadata": {},
     "output_type": "execute_result"
    }
   ],
   "source": [
    "size"
   ]
  },
  {
   "cell_type": "code",
   "execution_count": 77,
   "metadata": {},
   "outputs": [
    {
     "data": {
      "text/plain": [
       "[1, 2, 3, 4, 5, 6, 7, 8, 9, 0, 22, 33, 11]"
      ]
     },
     "execution_count": 77,
     "metadata": {},
     "output_type": "execute_result"
    }
   ],
   "source": [
    "arr[:13]"
   ]
  },
  {
   "cell_type": "markdown",
   "metadata": {},
   "source": [
    "# Remove Duplicates from Sorted Array"
   ]
  },
  {
   "cell_type": "code",
   "execution_count": 52,
   "metadata": {},
   "outputs": [
    {
     "name": "stdout",
     "output_type": "stream",
     "text": [
      "2\n",
      "3\n",
      "4\n",
      "2\n",
      "3\n",
      "2\n",
      "2\n",
      "3\n",
      "4\n",
      "2\n",
      "3\n",
      "2\n",
      "2\n",
      "[0, 1, 1, 2, 2, 2, 2, 2, 3, 3, 3, 3, 3, 4, 4, 5, 6, 7, 8, 9, 11, 11, 22, 22, 33, 33, 33]\n"
     ]
    }
   ],
   "source": [
    "arr=[1,2,1,3,2,3,4,3,2,4,5,6,7,8,9,0,2,3,2,22,33,11,22,33,11,33,3]\n",
    "\n",
    "arr.sort()\n",
    "\n",
    "for i in range(len(arr)-1):\n",
    "    \n",
    "    if arr[i]==arr[i+1]:\n",
    "        \n",
    "        length=1\n",
    "        \n",
    "        for j in range(i+2,len(arr)):\n",
    "            \n",
    "            if arr[i]==arr[j]:\n",
    "                \n",
    "                length+=1\n",
    "                print(length)\n",
    "        for k in range(i+2,i+length):\n",
    "            \n",
    "            arr[k]==arr[k+1]\n",
    "print(arr)\n",
    "                \n",
    "                \n",
    "            \n",
    "\n"
   ]
  },
  {
   "cell_type": "markdown",
   "metadata": {},
   "source": [
    "# Add Two Array Indexwise"
   ]
  },
  {
   "cell_type": "code",
   "execution_count": 88,
   "metadata": {},
   "outputs": [
    {
     "name": "stdout",
     "output_type": "stream",
     "text": [
      "[4, 6, 10, 8, 12, 14, 16]\n"
     ]
    }
   ],
   "source": [
    "arr1=[2,3,5,4,6,7,8]\n",
    "arr2=[2,3,5,4,6,7,8]\n",
    "\n",
    "\n",
    "for i in range(len(arr1)):\n",
    "    \n",
    "    arr1[i]=arr1[i]+arr2[i]\n",
    "    \n",
    "print(arr1)\n",
    "    "
   ]
  },
  {
   "cell_type": "code",
   "execution_count": null,
   "metadata": {},
   "outputs": [],
   "source": []
  },
  {
   "cell_type": "markdown",
   "metadata": {},
   "source": [
    "# List Value Convert To Integer abd String"
   ]
  },
  {
   "cell_type": "code",
   "execution_count": 6,
   "metadata": {},
   "outputs": [
    {
     "name": "stdout",
     "output_type": "stream",
     "text": [
      "32211\n",
      "32211\n"
     ]
    }
   ],
   "source": [
    "lst=[1,2,1,2,3]\n",
    "\n",
    "lst.sort(reverse=True)\n",
    "\n",
    "value=0\n",
    "\n",
    "values=\"\"\n",
    "\n",
    "for i in lst:\n",
    "    \n",
    "    value=value*10+i\n",
    "    \n",
    "    values+=str(i)\n",
    "print(value)    \n",
    "\n",
    "print(values)"
   ]
  },
  {
   "cell_type": "code",
   "execution_count": 11,
   "metadata": {},
   "outputs": [
    {
     "name": "stdout",
     "output_type": "stream",
     "text": [
      "['a', 'b', 'c']\n",
      "['a', 'b', 'c']\n",
      "['a', 'b', 'c']\n"
     ]
    }
   ],
   "source": [
    "lst=list('abc')\n",
    "\n",
    "for i in lst:\n",
    "    \n",
    "    x=lst[i]\n",
    "    \n",
    "    xs=lsit[i:]+lst[i+1:]\n",
    "    \n",
    "    "
   ]
  },
  {
   "cell_type": "code",
   "execution_count": null,
   "metadata": {},
   "outputs": [],
   "source": [
    "# from itertools import permutations\n",
    "\n",
    "# from itertools import combinations"
   ]
  },
  {
   "cell_type": "markdown",
   "metadata": {},
   "source": [
    "# Fibonacci Number"
   ]
  },
  {
   "cell_type": "code",
   "execution_count": 12,
   "metadata": {},
   "outputs": [
    {
     "name": "stdout",
     "output_type": "stream",
     "text": [
      "[0, 1, 1, 2, 3, 5, 8, 13, 21, 34, 55, 89]\n"
     ]
    }
   ],
   "source": [
    "n=10\n",
    "\n",
    "fibonocci=[0,1]\n",
    "\n",
    "a,b=0,1\n",
    "\n",
    "for i in range(n):\n",
    "    \n",
    "    c=a+b\n",
    "    \n",
    "    a,b=b,c\n",
    "    \n",
    "    fibonocci.append(c)\n",
    "    \n",
    "print(fibonocci)"
   ]
  },
  {
   "cell_type": "markdown",
   "metadata": {},
   "source": [
    "# Sum of Unique Elements"
   ]
  },
  {
   "cell_type": "code",
   "execution_count": 15,
   "metadata": {},
   "outputs": [
    {
     "name": "stdout",
     "output_type": "stream",
     "text": [
      "34\n",
      "6\n",
      "32\n",
      "22\n",
      "94\n"
     ]
    }
   ],
   "source": [
    "arr=[2,3,4,5,4,34,3,4,5,6,4,3,65,4,32,22,2,3,4,5,65]\n",
    "\n",
    "\n",
    "d={}\n",
    "\n",
    "for i in arr:\n",
    "    \n",
    "    if i not in d.keys():\n",
    "        \n",
    "        d[i]=1\n",
    "    else:\n",
    "        \n",
    "        d[i]+=1\n",
    "\n",
    "s=0\n",
    "\n",
    "for key,value in d.items():\n",
    "    \n",
    "    if value==1:\n",
    "        \n",
    "        s+=key\n",
    "        \n",
    "        print(key)\n",
    "        \n",
    "print(s)\n",
    "\n",
    "\n"
   ]
  },
  {
   "cell_type": "markdown",
   "metadata": {},
   "source": [
    "# Integer Sum and Product"
   ]
  },
  {
   "cell_type": "code",
   "execution_count": 26,
   "metadata": {},
   "outputs": [
    {
     "name": "stdout",
     "output_type": "stream",
     "text": [
      "18 360\n"
     ]
    }
   ],
   "source": [
    "integer=3456\n",
    "s,p=0,1\n",
    "\n",
    "while(integer>0):\n",
    "    \n",
    "    remainder=integer%10\n",
    "    \n",
    "    s+=remainder\n",
    "    \n",
    "    p*=remainder\n",
    "    \n",
    "    integer=integer//10\n",
    "    \n",
    "print(s,p)\n"
   ]
  },
  {
   "cell_type": "markdown",
   "metadata": {},
   "source": [
    "# Armstrong Number"
   ]
  },
  {
   "cell_type": "code",
   "execution_count": 27,
   "metadata": {},
   "outputs": [
    {
     "name": "stdout",
     "output_type": "stream",
     "text": [
      "1634\n"
     ]
    }
   ],
   "source": [
    "integer=1634\n",
    "s=0\n",
    "\n",
    "n=4\n",
    "\n",
    "while(integer>0):\n",
    "    \n",
    "    remainder=integer%10\n",
    "    \n",
    "    s+=remainder**n\n",
    "    \n",
    "    integer=integer//10\n",
    "    \n",
    "print(s)"
   ]
  },
  {
   "cell_type": "markdown",
   "metadata": {},
   "source": [
    "# Missing value of an array"
   ]
  },
  {
   "cell_type": "code",
   "execution_count": 40,
   "metadata": {},
   "outputs": [
    {
     "name": "stdout",
     "output_type": "stream",
     "text": [
      "7.0\n"
     ]
    }
   ],
   "source": [
    "# 1-10\n",
    "\n",
    "sum1=(10*(10+1))/2\n",
    "\n",
    "sum2=0\n",
    "\n",
    "arr=[1,2,3,4,5,6,8,9,10]\n",
    "\n",
    "for i in arr:\n",
    "    \n",
    "    sum2+=i\n",
    "    \n",
    "print(sum1-sum2)\n",
    "    \n",
    "    "
   ]
  },
  {
   "cell_type": "markdown",
   "metadata": {},
   "source": [
    "# Remove a Character from a string"
   ]
  },
  {
   "cell_type": "code",
   "execution_count": 5,
   "metadata": {},
   "outputs": [
    {
     "data": {
      "text/plain": [
       "'nmul'"
      ]
     },
     "execution_count": 5,
     "metadata": {},
     "output_type": "execute_result"
    }
   ],
   "source": [
    "char='a'\n",
    "string=\"anamul\"\n",
    "\n",
    "s=\"\"\n",
    "\n",
    "for i in string:\n",
    "    \n",
    "    if i not in char:\n",
    "    \n",
    "        s+=i\n",
    "s   "
   ]
  },
  {
   "cell_type": "markdown",
   "metadata": {},
   "source": [
    "# Replace All Digits with Characters"
   ]
  },
  {
   "cell_type": "code",
   "execution_count": 43,
   "metadata": {},
   "outputs": [
    {
     "data": {
      "text/plain": [
       "'abcdef'"
      ]
     },
     "execution_count": 43,
     "metadata": {},
     "output_type": "execute_result"
    }
   ],
   "source": [
    "s = \"a1c1e1\"\n",
    "\n",
    "string=[]\n",
    "\n",
    "for i in range(len(s)):\n",
    "\n",
    "    if s[i].isdigit():\n",
    "\n",
    "        digit=s[i]\n",
    "\n",
    "        start=s[i-1]\n",
    "\n",
    "        code=ord(start)\n",
    "\n",
    "        nexts=code+int(s[i])\n",
    "\n",
    "        next_char=chr(nexts)\n",
    "\n",
    "        string.append(next_char)\n",
    "\n",
    "    else:\n",
    "\n",
    "        string.append(s[i])\n",
    "        \n",
    "''.join(string)"
   ]
  },
  {
   "cell_type": "markdown",
   "metadata": {},
   "source": [
    "# Find All Numbers Disappeared in an Array"
   ]
  },
  {
   "cell_type": "code",
   "execution_count": 44,
   "metadata": {},
   "outputs": [
    {
     "data": {
      "text/plain": [
       "[5, 6]"
      ]
     },
     "execution_count": 44,
     "metadata": {},
     "output_type": "execute_result"
    }
   ],
   "source": [
    "nums = [4,3,2,7,8,2,3,1]\n",
    "\n",
    "n=len(nums)+1\n",
    "\n",
    "nums=set(nums)\n",
    "\n",
    "lst=[]\n",
    "\n",
    "for i in range(1,n):\n",
    "\n",
    "    if i not in nums:\n",
    "\n",
    "        lst.append(i)\n",
    "\n",
    "lst"
   ]
  },
  {
   "cell_type": "code",
   "execution_count": 2,
   "metadata": {},
   "outputs": [],
   "source": [
    "k=True+bool('s')\n"
   ]
  },
  {
   "cell_type": "code",
   "execution_count": 3,
   "metadata": {},
   "outputs": [
    {
     "data": {
      "text/plain": [
       "2"
      ]
     },
     "execution_count": 3,
     "metadata": {},
     "output_type": "execute_result"
    }
   ],
   "source": [
    "k"
   ]
  },
  {
   "cell_type": "code",
   "execution_count": null,
   "metadata": {},
   "outputs": [],
   "source": []
  }
 ],
 "metadata": {
  "kernelspec": {
   "display_name": "Python 3",
   "language": "python",
   "name": "python3"
  },
  "language_info": {
   "codemirror_mode": {
    "name": "ipython",
    "version": 3
   },
   "file_extension": ".py",
   "mimetype": "text/x-python",
   "name": "python",
   "nbconvert_exporter": "python",
   "pygments_lexer": "ipython3",
   "version": "3.8.3"
  }
 },
 "nbformat": 4,
 "nbformat_minor": 4
}
